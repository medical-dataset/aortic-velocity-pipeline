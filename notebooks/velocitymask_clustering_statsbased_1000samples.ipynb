{
 "cells": [
  {
   "cell_type": "code",
   "execution_count": null,
   "id": "6d93dc2b",
   "metadata": {},
   "outputs": [],
   "source": [
    "# velocitymask_clustering_statsbased_1000samples.ipynb\n",
    "# Jupyter notebook content for clustering 1000 velocity samples based on 100 statistical+temporal features\n",
    "\n",
    "import os\n",
    "import numpy as np\n",
    "import matplotlib.pyplot as plt\n",
    "import pandas as pd\n",
    "from sklearn.decomposition import PCA\n",
    "from sklearn.cluster import KMeans\n",
    "from sklearn.metrics import silhouette_score\n",
    "import umap.umap_ as umap\n",
    "import seaborn as sns"
   ]
  },
  {
   "cell_type": "code",
   "execution_count": null,
   "id": "578ed95c",
   "metadata": {},
   "outputs": [],
   "source": [
    "\n",
    "# Paths to precomputed feature files\n",
    "feature_file = r\"Y:\\Projects\\DeepFlow\\deepFlowDocker\\scripts\\Registration\\output/velocity_features_patch_1000.npy\"\n",
    "id_file = r\"Y:\\Projects\\DeepFlow\\deepFlowDocker\\scripts\\Registration\\output/velocity_ids_patch_1000.txt\"\n",
    "\n",
    "# Load features and IDs\n",
    "X = np.load(feature_file)\n",
    "with open(id_file, \"r\") as f:\n",
    "    ids = [line.strip() for line in f.readlines()]\n",
    "\n",
    "print(\"Loaded feature matrix shape:\", X.shape)"
   ]
  },
  {
   "cell_type": "code",
   "execution_count": null,
   "id": "4ecfc07a",
   "metadata": {},
   "outputs": [],
   "source": [
    "\n",
    "# PCA for dimensionality reduction\n",
    "pca = PCA(n_components=10, random_state=42)\n",
    "X_pca = pca.fit_transform(X)\n",
    "print(\"Explained variance ratio (top 5):\", pca.explained_variance_ratio_[:5])\n"
   ]
  },
  {
   "cell_type": "code",
   "execution_count": null,
   "id": "5fc64a98",
   "metadata": {},
   "outputs": [],
   "source": [
    "\n",
    "# KMeans clustering\n",
    "kmeans = KMeans(n_clusters=4, random_state=42)\n",
    "labels = kmeans.fit_predict(X_pca)\n",
    "\n",
    "# Silhouette Score\n",
    "score = silhouette_score(X_pca, labels)\n",
    "print(\"Silhouette Score:\", round(score, 4))\n",
    "\n"
   ]
  },
  {
   "cell_type": "code",
   "execution_count": null,
   "id": "d41ab682",
   "metadata": {},
   "outputs": [],
   "source": [
    "# UMAP projection\n",
    "reducer = umap.UMAP(random_state=42)\n",
    "X_umap = reducer.fit_transform(X_pca)\n",
    "\n",
    "# Plot\n",
    "plt.figure(figsize=(7, 6))\n",
    "plt.scatter(X_umap[:, 0], X_umap[:, 1], c=labels, cmap='tab10', s=40)\n",
    "plt.title(\"UMAP of 1000 Samples (Statistical + Temporal Features)\")\n",
    "plt.xlabel(\"UMAP-1\")\n",
    "plt.ylabel(\"UMAP-2\")\n",
    "plt.grid(True)\n",
    "plt.tight_layout()\n",
    "plt.show()\n"
   ]
  },
  {
   "cell_type": "code",
   "execution_count": null,
   "id": "8a3782e5",
   "metadata": {},
   "outputs": [],
   "source": [
    "# Save clustering results\n",
    "df = pd.DataFrame(X)\n",
    "df['cluster'] = labels\n",
    "# Basic stats per cluster\n",
    "print(\"\\n=== Per-cluster feature means (first 10 features) ===\")\n",
    "print(df.groupby('cluster').mean().iloc[:, :10].round(2))\n",
    "\n",
    "# Visualize selected features by cluster\n",
    "selected_features = [0, 1, 2, 90, 91, 92]  # e.g. mean/std/skew of frame 0 + derivatives\n",
    "df_melt = df[[f for f in df.columns if isinstance(f, int) and f in selected_features] + ['cluster']]\n",
    "df_melt = df_melt.rename(columns={i: f'F{i}' for i in selected_features})\n",
    "df_melt = df_melt.melt(id_vars='cluster', var_name='feature', value_name='value')\n",
    "\n",
    "plt.figure(figsize=(10, 6))\n",
    "sns.boxplot(data=df_melt, x='feature', y='value', hue='cluster')\n",
    "plt.title(\"Feature Distributions by Cluster\")\n",
    "plt.tight_layout()\n",
    "plt.show()"
   ]
  },
  {
   "cell_type": "code",
   "execution_count": null,
   "id": "a887ed76",
   "metadata": {},
   "outputs": [],
   "source": [
    "# ANOVA tests\n",
    "from scipy.stats import f_oneway\n",
    "print(\"\\n=== ANOVA Results ===\")\n",
    "for feat in selected_features:\n",
    "    groups = [df[df['cluster'] == c][feat].values for c in sorted(df['cluster'].unique())]\n",
    "    f_stat, p_val = f_oneway(*groups)\n",
    "    print(f\"Feature {feat:>3}: F = {f_stat:.3f}, p = {p_val:.4e}\")"
   ]
  },
  {
   "cell_type": "code",
   "execution_count": null,
   "id": "87e9b330",
   "metadata": {},
   "outputs": [],
   "source": [
    "# Focused clustering using top discriminative features\n",
    "focused_features = [0, 1, 90, 91, 92]\n",
    "X_focus = df[focused_features].values\n",
    "\n",
    "pca_focus = PCA(n_components=2, random_state=42)\n",
    "X_focus_pca = pca_focus.fit_transform(X_focus)\n",
    "\n",
    "kmeans_focus = KMeans(n_clusters=3, random_state=42)\n",
    "labels_focus = kmeans_focus.fit_predict(X_focus_pca)\n",
    "\n",
    "score_focus = silhouette_score(X_focus_pca, labels_focus)\n",
    "print(\"Focused Silhouette Score:\", round(score_focus, 4))\n",
    "\n",
    "X_focus_umap = umap.UMAP(random_state=42).fit_transform(X_focus_pca)\n",
    "\n",
    "plt.figure(figsize=(7, 6))\n",
    "plt.scatter(X_focus_umap[:, 0], X_focus_umap[:, 1], c=labels_focus, cmap='tab10', s=40)\n",
    "plt.title(\"UMAP (Focused on Derivative Features)\")\n",
    "plt.xlabel(\"UMAP-1\")\n",
    "plt.ylabel(\"UMAP-2\")\n",
    "plt.grid(True)\n",
    "plt.tight_layout()\n",
    "plt.show()"
   ]
  },
  {
   "cell_type": "code",
   "execution_count": null,
   "id": "1c7e58e7",
   "metadata": {},
   "outputs": [],
   "source": [
    "from sklearn.feature_selection import f_classif\n",
    "\n",
    "# Compute F-scores between features and cluster labels\n",
    "X_raw = df.drop(columns='cluster').values\n",
    "f_scores, _ = f_classif(X_raw, df['cluster'].values)\n",
    "\n",
    "# Select indices of top 15 features\n",
    "top15_indices = np.argsort(f_scores)[-15:]\n",
    "\n",
    "# Subset the data\n",
    "X_top = X_raw[:, top15_indices]\n",
    "\n",
    "# Clustering\n",
    "pca_top = PCA(n_components=2, random_state=42)\n",
    "X_top_pca = pca_top.fit_transform(X_top)\n",
    "\n",
    "kmeans_top = KMeans(n_clusters=3, random_state=42)\n",
    "labels_top = kmeans_top.fit_predict(X_top_pca)\n",
    "\n",
    "score_top = silhouette_score(X_top_pca, labels_top)\n",
    "print(\"Top 15 feature Silhouette Score:\", round(score_top, 4))\n",
    "\n",
    "# UMAP projection\n",
    "X_top_umap = umap.UMAP(random_state=42).fit_transform(X_top_pca)\n",
    "\n",
    "# Plot\n",
    "plt.figure(figsize=(7, 6))\n",
    "plt.scatter(X_top_umap[:, 0], X_top_umap[:, 1], c=labels_top, cmap='tab10', s=40)\n",
    "plt.title(\"UMAP (Top 15 Features by ANOVA F-score)\")\n",
    "plt.xlabel(\"UMAP-1\")\n",
    "plt.ylabel(\"UMAP-2\")\n",
    "plt.grid(True)\n",
    "plt.tight_layout()\n",
    "plt.show()\n"
   ]
  },
  {
   "cell_type": "code",
   "execution_count": null,
   "id": "bcf8936a",
   "metadata": {},
   "outputs": [],
   "source": [
    "\n",
    "# Save results\n",
    "df = pd.DataFrame({\n",
    "    \"sample_id\": ids,\n",
    "    \"cluster\": labels\n",
    "})\n",
    "df.to_csv(\"../output/velocity_clustering_statsbased_results.csv\", index=False)\n",
    "print(\"Saved clustering results to ../output/velocity_clustering_statsbased_results.csv\")\n"
   ]
  }
 ],
 "metadata": {
  "kernelspec": {
   "display_name": "Python 3",
   "language": "python",
   "name": "python3"
  },
  "language_info": {
   "codemirror_mode": {
    "name": "ipython",
    "version": 3
   },
   "file_extension": ".py",
   "mimetype": "text/x-python",
   "name": "python",
   "nbconvert_exporter": "python",
   "pygments_lexer": "ipython3",
   "version": "3.13.2"
  }
 },
 "nbformat": 4,
 "nbformat_minor": 5
}
