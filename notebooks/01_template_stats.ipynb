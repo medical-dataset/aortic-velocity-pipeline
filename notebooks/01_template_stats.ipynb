{
 "cells": [
  {
   "cell_type": "markdown",
   "id": "ed58152c",
   "metadata": {},
   "source": [
    "# Template Statistics Analysis\n",
    "**Author**: Majid Vafaeezadeh  \n",
    "**Date**: 2025-04-08\n",
    "\n",
    "This notebook evaluates non-zero statistics and visualizes template masks gecls\n",
    "nerated by the deformable registration pipeline."
   ]
  },
  {
   "cell_type": "code",
   "execution_count": 5,
   "id": "c194bd9d",
   "metadata": {},
   "outputs": [
    {
     "name": "stdout",
     "output_type": "stream",
     "text": [
      "Added evaluations/ to Python path.\n",
      "Successfully imported helper functions!\n"
     ]
    }
   ],
   "source": [
    "## 1. Load Libraries and Helper Functions\n",
    "import numpy as np\n",
    "import os\n",
    "import sys\n",
    "\n",
    "# Add the evaluations folder to the Python path\n",
    "sys.path.append(\"../evaluations\")\n",
    "print(\"Added evaluations/ to Python path.\")\n",
    "\n",
    "# Import your helper functions\n",
    "from eval_nonzero_stats import get_template_stats\n",
    "from eval_visualize import show_template\n",
    "print(\"Successfully imported helper functions!\")"
   ]
  },
  {
   "cell_type": "code",
   "execution_count": null,
   "id": "7a5ffe15",
   "metadata": {},
   "outputs": [],
   "source": [
    "## 2. Load and Evaluate Template Files\n",
    "template_dir = r\"P:\\Projects\\DeepFlow\\deepFlowDocker\\scripts\\Registration\\templates\\Template1simNonrigid\"\n",
    "#P:\\Projects\\DeepFlow\\deepFlowDocker\\scripts\\Registration\\output\\1simNonrigid\n",
    "#P:\\Projects\\DeepFlow\\deepFlowDocker\\output\\Alignment\\Template10allsimNonrigid\n",
    "#P:\\Projects\\DeepFlow\\deepFlowDocker\\scripts\\Registration\\output\\Template10allsimNonrigid\n",
    "for file in sorted(os.listdir(template_dir)):\n",
    "    if file.endswith(\".npy\"):\n",
    "        filepath = os.path.join(template_dir, file)\n",
    "        arr = np.load(filepath)\n",
    "\n",
    "        stats = get_template_stats(arr)\n",
    "        print(f\"{file} → Stats: {stats}\")\n",
    "\n",
    "        show_template(arr, title=file, threshold=0.5)\n"
   ]
  },
  {
   "cell_type": "code",
   "execution_count": null,
   "id": "5ee6c1e1",
   "metadata": {},
   "outputs": [
    {
     "name": "stdout",
     "output_type": "stream",
     "text": [
      "20213_2_0_masked_aligned_velocity.npy and 20213_2_0_masked_aligned_velocity.npy are identical.\n"
     ]
    }
   ],
   "source": [
    "# This block of code compares the .npy template files from two directories\n",
    "# and checks if their content is identical. For each pair of files,\n",
    "# it loads them and compares the arrays to see if they are exactly the same.\n",
    "# If they are identical, it will print a message stating so.\n",
    "\n",
    "# Directories containing .npy files for comparison\n",
    "template_dir_1 = r\"P:\\Projects\\DeepFlow\\deepFlowDocker\\scripts\\Registration\\output\\1simNonrigid\\old3\"\n",
    "template_dir_2 = r\"P:\\Projects\\DeepFlow\\deepFlowDocker\\scripts\\Registration\\output\\1simNonrigid\"\n",
    "\n",
    "# Get all .npy files in both directories\n",
    "files_1 = sorted([f for f in os.listdir(template_dir_1) if f.endswith(\".npy\")])\n",
    "files_2 = sorted([f for f in os.listdir(template_dir_2) if f.endswith(\".npy\")])\n",
    "\n",
    "# Ensure both directories have the same number of files\n",
    "if len(files_1) != len(files_2):\n",
    "    print(\"Warning: The number of template files in the two directories doesn't match.\")\n",
    "\n",
    "# Compare corresponding files from both directories\n",
    "for file1, file2 in zip(files_1, files_2):\n",
    "    file1_path = os.path.join(template_dir_1, file1)\n",
    "    file2_path = os.path.join(template_dir_2, file2)\n",
    "\n",
    "    # Load the .npy files\n",
    "    arr1 = np.load(file1_path)\n",
    "    arr2 = np.load(file2_path)\n",
    "\n",
    "    # Check if the arrays are identical\n",
    "    if np.array_equal(arr1, arr2):\n",
    "        print(f\"{file1} and {file2} are identical.\")\n",
    "    else:\n",
    "        print(f\"{file1} and {file2} are different.\")\n"
   ]
  }
 ],
 "metadata": {
  "kernelspec": {
   "display_name": "Python 3",
   "language": "python",
   "name": "python3"
  },
  "language_info": {
   "codemirror_mode": {
    "name": "ipython",
    "version": 3
   },
   "file_extension": ".py",
   "mimetype": "text/x-python",
   "name": "python",
   "nbconvert_exporter": "python",
   "pygments_lexer": "ipython3",
   "version": "3.13.2"
  }
 },
 "nbformat": 4,
 "nbformat_minor": 5
}
